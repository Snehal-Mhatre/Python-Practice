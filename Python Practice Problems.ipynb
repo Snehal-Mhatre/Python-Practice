{
 "cells": [
  {
   "cell_type": "markdown",
   "id": "97d2550b",
   "metadata": {},
   "source": [
    "1. Create a program that asks the user to enter their name and their age. Print out a message addressed to them that tells them the year that they will turn 100 years old. Note: for this exercise, the expectation is that you explicitly write out the year (and therefore be out of date the next year)."
   ]
  },
  {
   "cell_type": "code",
   "execution_count": 4,
   "id": "f8daa2f2",
   "metadata": {},
   "outputs": [
    {
     "name": "stdout",
     "output_type": "stream",
     "text": [
      "Enter your name :Snehal Mhatre\n",
      "Enter your age :50\n",
      "Snehal Mhatre you would turn 100 years in 2072\n"
     ]
    }
   ],
   "source": [
    "name = input(\"Enter your name :\")\n",
    "age = int(input(\"Enter your age :\"))\n",
    "year = 2022 - age + 100\n",
    "print(\"{} you would turn 100 years in {}\".format(name, year))"
   ]
  },
  {
   "cell_type": "markdown",
   "id": "07d1bfcb",
   "metadata": {},
   "source": [
    "2. Ask the user for a number. Depending on whether the number is even or odd, print out an appropriate message to the user. Hint: how does an even / odd number react differently when divided by 2?"
   ]
  },
  {
   "cell_type": "code",
   "execution_count": 6,
   "id": "84affadc",
   "metadata": {},
   "outputs": [
    {
     "name": "stdout",
     "output_type": "stream",
     "text": [
      "Please enter a number:7\n",
      "The number 7 is odd\n"
     ]
    }
   ],
   "source": [
    "number = int(input(\"Please enter a number:\"))\n",
    "if(number % 2 == 0):\n",
    "    print(\"The number {} is even\".format(number))\n",
    "else:\n",
    "    print(\"The number {} is odd\".format(number))"
   ]
  },
  {
   "cell_type": "markdown",
   "id": "0dd9840a",
   "metadata": {},
   "source": [
    "3. Take a list, say for example this one:\n",
    "\n",
    "      a = [1, 1, 2, 3, 5, 8, 13, 21, 34, 55, 89]\n",
    "and write a program that prints out all the elements of the list that are less than 5.\n",
    "Extras:\n",
    "\n",
    "Instead of printing the elements one by one, make a new list that has all the elements less than 5 from this list in it and print out this new list.\n",
    "Write this in one line of Python.\n",
    "Ask the user for a number and return a list that contains only elements from the original list a that are smaller than that number given by the user."
   ]
  },
  {
   "cell_type": "code",
   "execution_count": 10,
   "id": "59ab6abc",
   "metadata": {},
   "outputs": [
    {
     "name": "stdout",
     "output_type": "stream",
     "text": [
      "1\n",
      "1\n",
      "2\n",
      "3\n"
     ]
    }
   ],
   "source": [
    "a = [1, 1, 2, 3, 5, 8, 13, 21, 34, 55, 89]\n",
    "for num in a:\n",
    "    if(num < 5):\n",
    "        print(num)\n",
    "    else:\n",
    "        continue"
   ]
  },
  {
   "cell_type": "code",
   "execution_count": 11,
   "id": "3643f8bd",
   "metadata": {},
   "outputs": [
    {
     "name": "stdout",
     "output_type": "stream",
     "text": [
      "[1, 1, 2, 3]\n"
     ]
    }
   ],
   "source": [
    "#1\n",
    "a = [1, 1, 2, 3, 5, 8, 13, 21, 34, 55, 89]\n",
    "b = []\n",
    "for num in a:\n",
    "    if(num < 5):\n",
    "        b.append(num)\n",
    "    else:\n",
    "        continue\n",
    "        \n",
    "print(b)"
   ]
  },
  {
   "cell_type": "code",
   "execution_count": 15,
   "id": "5b97051e",
   "metadata": {},
   "outputs": [
    {
     "name": "stdout",
     "output_type": "stream",
     "text": [
      "[1, 1, 2, 3]\n"
     ]
    }
   ],
   "source": [
    "#2\n",
    "a = [1, 1, 2, 3, 5, 8, 13, 21, 34, 55, 89]\n",
    "print([num for num in a if num < 5])"
   ]
  },
  {
   "cell_type": "code",
   "execution_count": 18,
   "id": "2d6e549c",
   "metadata": {},
   "outputs": [
    {
     "name": "stdout",
     "output_type": "stream",
     "text": [
      "Enter number: 20\n",
      "[1, 1, 2, 3, 5, 8, 13]\n"
     ]
    }
   ],
   "source": [
    "#3\n",
    "a = [1, 1, 2, 3, 5, 8, 13, 21, 34, 55, 89]\n",
    "num = int(input(\"Enter number: \"))\n",
    "print([i for i in a if i < num])"
   ]
  },
  {
   "cell_type": "markdown",
   "id": "6057565c",
   "metadata": {},
   "source": [
    "Create a program that asks the user for a number and then prints out a list of all the divisors of that number. (If you don’t know what a divisor is, it is a number that divides evenly into another number. For example, 13 is a divisor of 26 because 26 / 13 has no remainder.)"
   ]
  },
  {
   "cell_type": "code",
   "execution_count": 21,
   "id": "04ebb4ad",
   "metadata": {},
   "outputs": [
    {
     "name": "stdout",
     "output_type": "stream",
     "text": [
      "Enter a number:32\n",
      "[1, 2, 4, 8, 16, 32]\n"
     ]
    }
   ],
   "source": [
    "number = int(input(\"Enter a number:\"))\n",
    "list1 = []\n",
    "for i in range(1, number + 1):\n",
    "    if(number % i == 0):\n",
    "        list1.append(i)\n",
    "print(list1)\n",
    "    "
   ]
  },
  {
   "cell_type": "markdown",
   "id": "6e4ae3d9",
   "metadata": {},
   "source": [
    "5. Take two lists, say for example these two:\n",
    "\n",
    "  a = [1, 1, 2, 3, 5, 8, 13, 21, 34, 55, 89]\n",
    "  b = [1, 2, 3, 4, 5, 6, 7, 8, 9, 10, 11, 12, 13]\n",
    "and write a program that returns a list that contains only the elements that are common between the lists (without duplicates). Make sure your program works on two lists of different sizes.\n",
    "\n",
    "Extras:\n",
    "\n",
    "Randomly generate two lists to test this\n",
    "Write this in one line of Python (don’t worry if you can’t figure this out at this point - we’ll get to it soon)"
   ]
  },
  {
   "cell_type": "code",
   "execution_count": 9,
   "id": "f40d5a97",
   "metadata": {},
   "outputs": [
    {
     "name": "stdout",
     "output_type": "stream",
     "text": [
      "[1, 2, 3, 5, 8, 13]\n"
     ]
    }
   ],
   "source": [
    "\n",
    "a = [1, 1, 2, 3, 5, 8, 13, 21, 34, 55, 89]\n",
    "b = [1, 2, 3, 4, 5, 6, 7, 8, 9, 10, 11, 12, 13]\n",
    "c = []\n",
    "\n",
    "for i in a:\n",
    "    if i in b and i not in c:\n",
    "        c.append(i)\n",
    "        \n",
    "print(c)"
   ]
  },
  {
   "cell_type": "code",
   "execution_count": 16,
   "id": "e99b6b0d",
   "metadata": {},
   "outputs": [
    {
     "name": "stdout",
     "output_type": "stream",
     "text": [
      "[1, 2, 3, 5, 8, 13]\n"
     ]
    }
   ],
   "source": [
    "a = [1, 1, 2, 3, 5, 8, 13, 21, 34, 55, 89]\n",
    "b = [1, 2, 3, 4, 5, 6, 7, 8, 9, 10, 11, 12, 13]\n",
    "l = list(set([i for i in a if i in b]))\n",
    "print(l)"
   ]
  },
  {
   "cell_type": "markdown",
   "id": "a13899be",
   "metadata": {},
   "source": [
    "6. Ask the user for a string and print out whether this string is a palindrome or not. (A palindrome is a string that reads the same forwards and backwards.)"
   ]
  },
  {
   "cell_type": "code",
   "execution_count": 32,
   "id": "1d3f1193",
   "metadata": {},
   "outputs": [
    {
     "name": "stdout",
     "output_type": "stream",
     "text": [
      "Please enter a string: Malayalam\n",
      "Malayalam String is pallindrome\n"
     ]
    }
   ],
   "source": [
    "#malayalam\n",
    "\n",
    "string_p = input(\"Please enter a string: \").lower()\n",
    "if string_p == string_p[::-1]:\n",
    "            print(string_p.capitalize(),\"String is pallindrome\")"
   ]
  },
  {
   "cell_type": "markdown",
   "id": "e4e15377",
   "metadata": {},
   "source": [
    "7. Let’s say I give you a list saved in a variable: a = [1, 4, 9, 16, 25, 36, 49, 64, 81, 100]. Write one line of Python that takes this list a and makes a new list that has only the even elements of this list in it."
   ]
  },
  {
   "cell_type": "code",
   "execution_count": 37,
   "id": "7075e938",
   "metadata": {},
   "outputs": [
    {
     "name": "stdout",
     "output_type": "stream",
     "text": [
      "[4, 16, 36, 64, 100]\n"
     ]
    }
   ],
   "source": [
    "a = [1, 4, 9, 16, 25, 36, 49, 64, 81, 100]\n",
    "b = []\n",
    "list([b.append(i) for i in a if i%2 == 0])\n",
    "print(b)"
   ]
  },
  {
   "cell_type": "markdown",
   "id": "bba60f00",
   "metadata": {},
   "source": [
    "8. Make a two-player Rock-Paper-Scissors game. (Hint: Ask for player plays (using input), compare them, print out a message of congratulations to the winner, and ask if the players want to start a new game)\n",
    "\n",
    "Remember the rules:\n",
    "\n",
    "Rock beats scissors\n",
    "Scissors beats paper\n",
    "Paper beats rock"
   ]
  },
  {
   "cell_type": "code",
   "execution_count": 61,
   "id": "2965b634",
   "metadata": {},
   "outputs": [
    {
     "name": "stdout",
     "output_type": "stream",
     "text": [
      "Do you want to start a new game? Type yes or no : yes\n",
      "Player 1, please enter your play: paper\n",
      "Player 2, please enter your play: rock\n",
      "User1 is the winner\n"
     ]
    }
   ],
   "source": [
    "play_again = input(\"Do you want to start a new game? Type yes or no : \")\n",
    "\n",
    "if play_again == 'yes':\n",
    "    ui1 = input(\"Player 1, please enter your play: \")\n",
    "    ui2 = input(\"Player 2, please enter your play: \")\n",
    "    if (ui1 == 'rock' and ui2 == 'rock') or (ui1 == 'scissors' and ui2 == 'scissors')  or (ui1 == 'paper' and ui2 == 'paper') :\n",
    "        print(\"It's a draw\")\n",
    "    elif (ui1 == 'rock' and ui2 == 'scissors') or (ui1 == 'scissors' and ui2 == 'paper') or (ui1 == 'paper' and ui2 == 'rock'):\n",
    "        print(\"User1 is the winner\")\n",
    "    elif ui1 == 'rock' and ui2 == 'paper' or (ui1 == 'paper' and ui2 == 'scissors') or (ui1 == 'scissors' and ui2 == 'rock'):\n",
    "        print(\"User2 is the winner\")\n",
    "else:\n",
    "    print(\"Good Bye\")\n",
    "\n"
   ]
  },
  {
   "cell_type": "markdown",
   "id": "414539df",
   "metadata": {},
   "source": [
    "9. Generate a random number between 1 and 9 (including 1 and 9). Ask the user to guess the number, then tell them whether they guessed too low, too high, or exactly right. (Hint: remember to use the user input lessons from the very first exercise)\n",
    "\n",
    "Extras:\n",
    "\n",
    "Keep the game going until the user types “exit”\n",
    "Keep track of how many guesses the user has taken, and when the game ends, print this out."
   ]
  },
  {
   "cell_type": "code",
   "execution_count": 94,
   "id": "39c0176d",
   "metadata": {},
   "outputs": [
    {
     "name": "stdout",
     "output_type": "stream",
     "text": [
      "Please guess a number: exit\n",
      "Its time to exit\n"
     ]
    }
   ],
   "source": [
    "import random\n",
    "num = random.randint(1,9)\n",
    "\n",
    "num_gs = input(\"Please guess a number: \")\n",
    "if num_gs != \"exit\":\n",
    "    numg = int(num_gs)\n",
    "    if numg < num:\n",
    "        print(\" Guessed too low\")\n",
    "    elif numg == num:\n",
    "        print(\" Guessed exactly right \")\n",
    "    elif numg > num:\n",
    "        print(\" Guessed too high\")\n",
    "else:\n",
    "    print(\"Its time to exit\")\n"
   ]
  },
  {
   "cell_type": "markdown",
   "id": "74ada2ae",
   "metadata": {},
   "source": [
    "10. Take two lists, say for example these two:\n",
    "\n",
    "\ta = [1, 1, 2, 3, 5, 8, 13, 21, 34, 55, 89]\n",
    "\tb = [1, 2, 3, 4, 5, 6, 7, 8, 9, 10, 11, 12, 13]\n",
    "and write a program that returns a list that contains only the elements that are common between the lists (without duplicates). Make sure your program works on two lists of different sizes. Write this using at least one list comprehension"
   ]
  },
  {
   "cell_type": "code",
   "execution_count": 9,
   "id": "02881a4c",
   "metadata": {},
   "outputs": [
    {
     "name": "stdout",
     "output_type": "stream",
     "text": [
      "[6, 5, 9, 1, 8]\n",
      "[6, 1, 5, 8, 2, 9, 7]\n",
      "[6, 5, 9, 1, 8]\n"
     ]
    }
   ],
   "source": [
    "import random\n",
    "random_list1 = random.sample(range(0, 10), 5)\n",
    "random_list2 = random.sample(range(0, 10), 7)\n",
    "print(random_list1)\n",
    "print(random_list2)\n",
    "new_list = [i for i in random_list1 if i in random_list2 not in new_list]\n",
    "print(new_list)\n"
   ]
  },
  {
   "cell_type": "markdown",
   "id": "234aca69",
   "metadata": {},
   "source": [
    "11. Ask the user for a number and determine whether the number is prime or not. (For those who have forgotten, a prime number is a number that has no divisors.). "
   ]
  },
  {
   "cell_type": "code",
   "execution_count": 35,
   "id": "18b0f65b",
   "metadata": {},
   "outputs": [
    {
     "name": "stdout",
     "output_type": "stream",
     "text": [
      "Please enter a number: 7\n",
      "7 is a prime number\n",
      "7 is a prime number\n",
      "7 is a prime number\n",
      "7 is a prime number\n",
      "7 is a prime number\n"
     ]
    }
   ],
   "source": [
    "num = int(input(\"Please enter a number: \"))\n",
    "\n",
    "if num > 1:\n",
    "    for i in range(2, num):\n",
    "        if num % i == 0:\n",
    "            print(\"{} is not a prime number\".format(num))\n",
    "            break\n",
    "        else:\n",
    "            print(\"{} is a prime number\".format(num))\n",
    "            continue\n",
    "else:\n",
    "    print(\"{} is not a prime number\".format(num))"
   ]
  },
  {
   "cell_type": "markdown",
   "id": "83667c1f",
   "metadata": {},
   "source": [
    "12. Write a program that takes a list of numbers (for example, a = [5, 10, 15, 20, 25]) and makes a new list of only the first and last elements of the given list. For practice, write this code inside a function.\n",
    "\n"
   ]
  },
  {
   "cell_type": "code",
   "execution_count": 47,
   "id": "491cb464",
   "metadata": {},
   "outputs": [
    {
     "name": "stdout",
     "output_type": "stream",
     "text": [
      "[4, 2, 5, 6, 8, 13, 12]\n",
      "[4, 12]\n"
     ]
    }
   ],
   "source": [
    "import random\n",
    "list1 = random.sample(range(1,15), 7)\n",
    "print(list1)\n",
    "\n",
    "def random_list():\n",
    "    new_list = [list1[0], list1[-1]]\n",
    "    print(new_list)   \n",
    "    \n",
    "random_list()\n"
   ]
  },
  {
   "cell_type": "markdown",
   "id": "ec5dcb98",
   "metadata": {},
   "source": [
    "13. Write a program that asks the user how many Fibonnaci numbers to generate and then generates them. Take this opportunity to think about how you can use functions. Make sure to ask the user to enter the number of numbers in the sequence to generate."
   ]
  },
  {
   "cell_type": "code",
   "execution_count": 64,
   "id": "8e44ccd1",
   "metadata": {},
   "outputs": [
    {
     "name": "stdout",
     "output_type": "stream",
     "text": [
      "Enter the number of numbers you need in an input sequence : 7\n",
      "[1, 1, 2, 3, 5, 8, 13]\n"
     ]
    }
   ],
   "source": [
    "# 1, 1, 2, 3, 5, 8, 13, …)\n",
    "def fibonnaci():\n",
    "    num = int(input(\"Enter the number of numbers you need in an input sequence : \"))\n",
    "    a = 1\n",
    "    \n",
    "    if num == 0:\n",
    "        fib = []\n",
    "    elif num == 1:\n",
    "        fib = [1]\n",
    "    elif num == 2:\n",
    "        fib = [1,1]\n",
    "    elif num > 2:\n",
    "        fib = [1,1]\n",
    "        while a < (num-1):\n",
    "            fib.append(fib[a] + fib[a-1])\n",
    "            a+=1\n",
    "    return fib\n",
    "\n",
    "print(fibonnaci())\n"
   ]
  },
  {
   "cell_type": "markdown",
   "id": "ded062f2",
   "metadata": {},
   "source": [
    "14. Write a program (function!) that takes a list and returns a new list that contains all the elements of the first list minus all the duplicates.\n",
    "\n",
    "Extras:\n",
    "\n",
    "Write two different functions to do this - one using a loop and constructing a list, and another using sets.\n",
    "Go back and do Exercise 5 using sets, and write the solution for that in a different function."
   ]
  },
  {
   "cell_type": "code",
   "execution_count": 66,
   "id": "be9f4384",
   "metadata": {},
   "outputs": [
    {
     "data": {
      "text/plain": [
       "[1, 2, 3, 5, 7, 8]"
      ]
     },
     "execution_count": 66,
     "metadata": {},
     "output_type": "execute_result"
    }
   ],
   "source": [
    "# USing for loop and constructing a list\n",
    "\n",
    "a = [1,1,2,3,5,5,7,8]\n",
    "b = []\n",
    "def remove_duplicate():\n",
    "    for i in a:\n",
    "        if i not in b:\n",
    "            b.append(i)\n",
    "        else:\n",
    "            continue\n",
    "\n",
    "    return b\n",
    "\n",
    "remove_duplicate()\n",
    "        "
   ]
  },
  {
   "cell_type": "code",
   "execution_count": 86,
   "id": "04ee9ac7",
   "metadata": {},
   "outputs": [
    {
     "name": "stdout",
     "output_type": "stream",
     "text": [
      "{1, 2, 3, 5, 7, 8}\n"
     ]
    }
   ],
   "source": [
    "# Using sets\n",
    "\n",
    "a = [1,1,2,3,5,5,7,8]\n",
    "b = set(a)\n",
    "print(b)"
   ]
  },
  {
   "cell_type": "markdown",
   "id": "f031c7c2",
   "metadata": {},
   "source": [
    "15. Write a program (using functions!) that asks the user for a long string containing multiple words. Print back to the user the same string, except with the words in backwards order. For example, say I type the string:"
   ]
  },
  {
   "cell_type": "code",
   "execution_count": 85,
   "id": "97b90bd8",
   "metadata": {},
   "outputs": [
    {
     "name": "stdout",
     "output_type": "stream",
     "text": [
      "Please enter your string: I will do it\n",
      "it do will I\n"
     ]
    }
   ],
   "source": [
    "def reverse_string(txt_str):\n",
    "    new_str = txt_str.split(\" \")\n",
    "    return \" \".join(new_str[::-1])\n",
    "    \n",
    "    \n",
    "word_string = input(\"Please enter your string: \")\n",
    "result = reverse_string(word_string) \n",
    "print(result)"
   ]
  },
  {
   "cell_type": "markdown",
   "id": "2b89b234",
   "metadata": {},
   "source": []
  },
  {
   "cell_type": "code",
   "execution_count": null,
   "id": "0fd2d8f8",
   "metadata": {},
   "outputs": [],
   "source": []
  },
  {
   "cell_type": "code",
   "execution_count": null,
   "id": "5579e956",
   "metadata": {},
   "outputs": [],
   "source": []
  }
 ],
 "metadata": {
  "kernelspec": {
   "display_name": "Python 3",
   "language": "python",
   "name": "python3"
  },
  "language_info": {
   "codemirror_mode": {
    "name": "ipython",
    "version": 3
   },
   "file_extension": ".py",
   "mimetype": "text/x-python",
   "name": "python",
   "nbconvert_exporter": "python",
   "pygments_lexer": "ipython3",
   "version": "3.8.8"
  }
 },
 "nbformat": 4,
 "nbformat_minor": 5
}
